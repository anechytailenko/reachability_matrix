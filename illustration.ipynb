{
 "cells": [
  {
   "cell_type": "code",
   "execution_count": 13,
   "id": "initial_id",
   "metadata": {
    "collapsed": true,
    "ExecuteTime": {
     "end_time": "2024-04-20T10:54:38.710034Z",
     "start_time": "2024-04-20T10:54:38.665031Z"
    }
   },
   "outputs": [
    {
     "ename": "ImportError",
     "evalue": "cannot import name 'convert_microseconds_to_seconds' from 'convertation' (/Users/annanechytailenko/PycharmProjects/reachability_matrix/convertation.py)",
     "output_type": "error",
     "traceback": [
      "\u001B[0;31m---------------------------------------------------------------------------\u001B[0m",
      "\u001B[0;31mImportError\u001B[0m                               Traceback (most recent call last)",
      "Cell \u001B[0;32mIn[13], line 9\u001B[0m\n\u001B[1;32m      7\u001B[0m \u001B[38;5;28;01mimport\u001B[39;00m \u001B[38;5;21;01mpandas\u001B[39;00m \u001B[38;5;28;01mas\u001B[39;00m \u001B[38;5;21;01mpd\u001B[39;00m\n\u001B[1;32m      8\u001B[0m \u001B[38;5;28;01mimport\u001B[39;00m \u001B[38;5;21;01mdatetime\u001B[39;00m\n\u001B[0;32m----> 9\u001B[0m \u001B[38;5;28;01mfrom\u001B[39;00m \u001B[38;5;21;01mconvertation\u001B[39;00m \u001B[38;5;28;01mimport\u001B[39;00m convert_microseconds_to_seconds\n\u001B[1;32m     10\u001B[0m \u001B[38;5;28;01mfrom\u001B[39;00m \u001B[38;5;21;01mprettytable\u001B[39;00m \u001B[38;5;28;01mimport\u001B[39;00m PrettyTable\n\u001B[1;32m     12\u001B[0m list_of_n_vertices \u001B[38;5;241m=\u001B[39m [\u001B[38;5;241m30\u001B[39m,\u001B[38;5;241m55\u001B[39m,\u001B[38;5;241m105\u001B[39m,\u001B[38;5;241m155\u001B[39m,\u001B[38;5;241m195\u001B[39m]\n",
      "\u001B[0;31mImportError\u001B[0m: cannot import name 'convert_microseconds_to_seconds' from 'convertation' (/Users/annanechytailenko/PycharmProjects/reachability_matrix/convertation.py)"
     ]
    }
   ],
   "source": [
    "from Visualization import *\n",
    "from Graph import *\n",
    "from GraphGenerator import *\n",
    "from WarshallAlgorithm import *\n",
    "import matplotlib.pyplot as plt\n",
    "import numpy as np\n",
    "import pandas as pd\n",
    "import datetime\n",
    "from convertation import convert_microseconds_to_seconds\n",
    "from prettytable import PrettyTable\n",
    "\n",
    "list_of_n_vertices = [30,55,105,155,195]\n",
    "list_of_density= [10,20,30,40,50]\n",
    "AMOUNT_OF_EXPERIMENT = 40\n",
    "dict_n_verticle = {}\n",
    "for n_vertices in list_of_n_vertices:\n",
    "    dict_n_verticle[n_vertices] = []\n",
    "    for density in list_of_density:\n",
    "        n = 0\n",
    "        list_conduction_time = []\n",
    "        while n < AMOUNT_OF_EXPERIMENT:\n",
    "            graph = GraphGenerator.generate(n_vertices, density)\n",
    "            reachability_matrix, conduction_time = WarshallAlgorithm.get_reachability_matrix(graph)\n",
    "            list_conduction_time.append(convert_microseconds_to_seconds(conduction_time))\n",
    "            n += 1\n",
    "        dict_n_verticle[n_vertices].append((density, np.mean(list_conduction_time)))\n",
    "\n",
    "print(dict_n_verticle)\n",
    "\n",
    "\n",
    "result_table = PrettyTable(['Amount of verticles', 'Density','Average execution of algorithm in seconds'])\n",
    "for n_vertices in dict_n_verticle.keys():\n",
    "    list_value_given_amount_of_vericle = dict_n_verticle[n_vertices]\n",
    "    for value in list_value_given_amount_of_vericle:\n",
    "        density,time = value\n",
    "        result_table.add_row([n_vertices, density, time])\n",
    "print(result_table)\n",
    "\n",
    "list_for_graphs = []\n",
    "colors = ['blue', 'red', 'green', 'orange', 'purple']\n",
    "\n",
    "for n_vertices in dict_n_verticle.keys():\n",
    "    list_value_given_amount_of_vericle = dict_n_verticle[n_vertices]\n",
    "    for value in list_value_given_amount_of_vericle:\n",
    "        density,time = value\n",
    "        list_for_graphs.append([n_vertices, density, time])\n",
    "\n",
    "dict_density = {}\n",
    "for index, density in enumerate(list_of_density):\n",
    "    x_list = []\n",
    "    y_list = []\n",
    "    for experiment in list_for_graphs:\n",
    "        if experiment[1] == density:\n",
    "            x_list.append(experiment[0])\n",
    "            y_list.append(experiment[2])\n",
    "    fig, ax = plt.subplots()\n",
    "    ax.plot(x_list, y_list, color = colors[index])\n",
    "    ax.set_title(f'Density of {density}')\n",
    "    ax.set_xlabel('Amount of vertices')\n",
    "    ax.set_ylabel('Execution time of algorithm in seconds')"
   ]
  },
  {
   "cell_type": "code",
   "outputs": [],
   "source": [],
   "metadata": {
    "collapsed": false,
    "ExecuteTime": {
     "end_time": "2024-04-20T10:54:12.070338Z",
     "start_time": "2024-04-20T10:54:12.068151Z"
    }
   },
   "id": "8e873646cb08898e",
   "execution_count": 12
  },
  {
   "cell_type": "code",
   "outputs": [],
   "source": [],
   "metadata": {
    "collapsed": false,
    "ExecuteTime": {
     "end_time": "2024-04-20T10:54:12.777164Z",
     "start_time": "2024-04-20T10:54:12.775403Z"
    }
   },
   "id": "7c8b269a5b2a8725",
   "execution_count": 12
  },
  {
   "cell_type": "code",
   "outputs": [],
   "source": [],
   "metadata": {
    "collapsed": false
   },
   "id": "37bafc671b2faa22"
  }
 ],
 "metadata": {
  "kernelspec": {
   "display_name": "Python 3",
   "language": "python",
   "name": "python3"
  },
  "language_info": {
   "codemirror_mode": {
    "name": "ipython",
    "version": 2
   },
   "file_extension": ".py",
   "mimetype": "text/x-python",
   "name": "python",
   "nbconvert_exporter": "python",
   "pygments_lexer": "ipython2",
   "version": "2.7.6"
  }
 },
 "nbformat": 4,
 "nbformat_minor": 5
}
